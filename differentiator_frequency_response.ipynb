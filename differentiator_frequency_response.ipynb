{
 "cells": [
  {
   "cell_type": "code",
   "execution_count": 1,
   "metadata": {},
   "outputs": [
    {
     "name": "stdout",
     "output_type": "stream",
     "text": [
      "Author        : sm626967\n",
      "Python        : 3.7.4 \n",
      "NumPy         : 1.18.1\n",
      "Encoding      : utf-8\n",
      "Timestamp     : 1595687955.346698\n"
     ]
    }
   ],
   "source": [
    "%run ./py_templates/1_Boilerplate_Numeric.py"
   ]
  },
  {
   "cell_type": "markdown",
   "metadata": {},
   "source": [
    "Use the following schematic for reference:"
   ]
  },
  {
   "cell_type": "markdown",
   "metadata": {},
   "source": [
    "![Differentiator Circuit](diff_ref_ckt.JPG)."
   ]
  },
  {
   "cell_type": "markdown",
   "metadata": {},
   "source": [
    "There is an inverting opamp, a feedback resistor, and two series elements, $C_1$ and $R_2$ which are in series with the input signal. The circuit is based on the capacitor's current to voltage relationship, $$i_C=C_1 \\cdot \\frac{dv}{dt}$$"
   ]
  },
  {
   "cell_type": "markdown",
   "metadata": {},
   "source": [
    "where $i_C$ is the current through the capacitor, C is the capacitance of the capacitor, and v is the voltage across the capacitor. The current flowing through the capacitor is then proportional to the derivative of the voltage across the capacitor. This current can then be connected to a resistor, which has the current to voltage relationship $$I=\\frac{v}{R_1}$$"
   ]
  },
  {
   "cell_type": "markdown",
   "metadata": {},
   "source": [
    "The op-amp input has a very high input impedance (it also forms a virtual ground due to the presence of negative feedback), so the entire input current has to flow through $R_1$\n",
    "\n",
    "If we let $V_{out}$ represent the voltage across the resistor and $V_{in}$ is the voltage across the capacitor, we can rearrange these two equations to obtain the following equation: "
   ]
  },
  {
   "cell_type": "markdown",
   "metadata": {},
   "source": [
    "$$v_{out}=-R_1C_1 \\cdot \\frac{dv_{in}}{dt}$$"
   ]
  },
  {
   "cell_type": "markdown",
   "metadata": {},
   "source": [
    "* Output is proportional to the rate of change of the input. So, the op amp acts as a differentiator.\n",
    "* Above equation is true for any frequency signal.\n",
    "* The negative sign indicates that there is 180° phase shift in the output with respect to the input,\n",
    "\n",
    "It can be shown that in an ideal situation the voltage across the resistor will be proportional to the derivative (rate of change) of the voltage across the capacitor with a gain of RC. "
   ]
  },
  {
   "cell_type": "markdown",
   "metadata": {},
   "source": [
    "There are some limitations to the performance of this circuit as a differentiator. The most notable limitation is that at high frequencies (defined soon):\n",
    "\n",
    "* this simple differentiator circuit becomes unstable and oscillates\n",
    "* the circuit becomes sensitive to noise: when amplified, noise dominates the input signal."
   ]
  },
  {
   "cell_type": "markdown",
   "metadata": {},
   "source": [
    "To mitigate against oscillation, another capacitor of a small value may be placed in parallel with the feedback resistor $R_1$"
   ]
  },
  {
   "cell_type": "markdown",
   "metadata": {},
   "source": [
    "This provides us with the following frequency relationship(s) based upon $RC$ time constants:"
   ]
  },
  {
   "cell_type": "markdown",
   "metadata": {},
   "source": [
    "Let's define a few terms first: <br><br>\n",
    "$$f_1=\\frac{1}{2 \\pi R_1 C}$$<br><br>\n",
    "$f_1$ is the frequency at and below this value causing the circuit to behave like a differentiator."
   ]
  },
  {
   "cell_type": "markdown",
   "metadata": {},
   "source": [
    "$$f_2=\\frac{1}{2 \\pi R C_2}$$<br><br>"
   ]
  },
  {
   "cell_type": "markdown",
   "metadata": {},
   "source": [
    "Note that $C_2$ is not illustrated in the figure at the top of this notebook. It is the small value capcitor placed in parallel with the feedback resistor $R_1$ to mitigate against oscillation."
   ]
  },
  {
   "cell_type": "markdown",
   "metadata": {},
   "source": [
    "In any case, frequencies above $f_2$ will cause the circuit to behave as an integrator."
   ]
  },
  {
   "cell_type": "markdown",
   "metadata": {},
   "source": [
    "Frequencies between $f_1$ and $f_2$ will cause the circuit to behave like a very low gain amplifier or a buffer. "
   ]
  },
  {
   "cell_type": "markdown",
   "metadata": {},
   "source": [
    "What happens if you don't have $C_2$ in parallel with $R_1$, <code>OR</code> if $C_1$=$C_2$ and $R_1$=$R_2$?"
   ]
  },
  {
   "cell_type": "markdown",
   "metadata": {},
   "source": [
    "In this case, any frequencies above $f_1$ will cause the circuit to act as an integrator, and $$f=\\frac{1}{2 \\pi RC}$$"
   ]
  },
  {
   "cell_type": "markdown",
   "metadata": {},
   "source": [
    "Let's calculate the $f_1$ of the circuit shown at the top of this notebook:"
   ]
  },
  {
   "cell_type": "code",
   "execution_count": 2,
   "metadata": {},
   "outputs": [
    {
     "name": "stdout",
     "output_type": "stream",
     "text": [
      "f_1: 2257.51692 Hz\n"
     ]
    }
   ],
   "source": [
    "C=0.0047E-6\n",
    "R1=15.0E3\n",
    "f1=np.reciprocal(2*pi*R1*C)\n",
    "print(\"f_1: \"'{0:.5f}'.format(f1),\"Hz\")"
   ]
  },
  {
   "cell_type": "markdown",
   "metadata": {},
   "source": [
    "Meaning, that in this case and using the values shown in the previous cell, any input frequencies at or below <code>2257.51692 Hz</code> will cause this circuit to behave like a differentiator, but frequencies above this frequency will cause the circuit to act as an integrator. A small capacitor in parallel with $R_1$ would mitigate against oscillations and move the boundary condition for integrator behaviour up in frequency space."
   ]
  }
 ],
 "metadata": {
  "kernelspec": {
   "display_name": "Python 3",
   "language": "python",
   "name": "python3"
  },
  "language_info": {
   "codemirror_mode": {
    "name": "ipython",
    "version": 3
   },
   "file_extension": ".py",
   "mimetype": "text/x-python",
   "name": "python",
   "nbconvert_exporter": "python",
   "pygments_lexer": "ipython3",
   "version": "3.7.4"
  }
 },
 "nbformat": 4,
 "nbformat_minor": 4
}
