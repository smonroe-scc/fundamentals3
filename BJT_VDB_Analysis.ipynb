{
 "cells": [
  {
   "cell_type": "code",
   "execution_count": 1,
   "metadata": {},
   "outputs": [
    {
     "name": "stdout",
     "output_type": "stream",
     "text": [
      "Author         : S Monroe\n",
      "Version        : 3.7.4 (default, Aug  9 2019, 18:34:13) [MSC v.1915 64 bit (AMD64)]\n",
      "Numeric    lib : 1.18.1\n",
      "Scientific lib : 1.5.0\n",
      "Encoding       : utf-8\n",
      "Timestamp      : 1600219481.0079603\n"
     ]
    }
   ],
   "source": [
    "from math import cos, sin, tan, acos, asin, atan, atan2, degrees, radians\n",
    "from numpy import reciprocal, pi, sqrt, angle, exp\n",
    "from scipy import *\n",
    "from scipy.constants import k, e\n",
    "import numpy as np\n",
    "import scipy as sp\n",
    "import time, sys\n",
    "\n",
    "#hextime=float.hex(time.time())  # reserved for a version revision \n",
    "\n",
    "\n",
    "def cosd(x):\n",
    "  return cos(radians(x))\n",
    "\n",
    "def sind(x):\n",
    "  return sin(radians(x))\n",
    "\n",
    "def tand(x):\n",
    "  return tan(radians(x))\n",
    "\n",
    "def acosd(x):\n",
    "  return degrees(acos(x))\n",
    "\n",
    "def asind(x):\n",
    "  return degrees(asin(x))\n",
    "\n",
    "def atand(x):\n",
    "  return degrees(atan(x))\n",
    "\n",
    "def atan2d(y, x):\n",
    "  return degrees(atan2(y, x))\n",
    "\n",
    "## Now define conversion functions:\n",
    "\n",
    "def P2R(radii, angles):\n",
    "    return radii * exp(1j*angles*(pi/180))\n",
    "\n",
    "def R2P(x):\n",
    "    return abs(x), angle(x, deg=True)\n",
    "\n",
    "print(\"Author         : S Monroe\")\n",
    "print(\"Version        :\",sys.version[0:66])\n",
    "print(\"Numeric    lib :\",np.version.version)\n",
    "print(\"Scientific lib :\",sp.version.version)\n",
    "print(\"Encoding       :\",sys.getdefaultencoding())\n",
    "print(\"Timestamp      :\",time.time())"
   ]
  },
  {
   "cell_type": "code",
   "execution_count": 2,
   "metadata": {},
   "outputs": [
    {
     "name": "stdout",
     "output_type": "stream",
     "text": [
      "Enter VCC:22\n",
      "Enter R1:128000\n",
      "Enter R2:10000\n",
      "Enter RC:5600\n",
      "Enter RE:470\n",
      "Enter ambient temperature (degrees C:)27\n",
      "Enter β:120\n",
      "Enter load:8200\n"
     ]
    }
   ],
   "source": [
    "VCC=input(\"Enter VCC:\")\n",
    "VCC=float(VCC)\n",
    "R1=input(\"Enter R1:\")\n",
    "R1=float(R1)\n",
    "R2=input(\"Enter R2:\")\n",
    "R2=float(R2)\n",
    "RC=input(\"Enter RC:\")\n",
    "RC=float(RC)\n",
    "RE=input(\"Enter RE:\")\n",
    "RE=float(RE)\n",
    "Temp=input(\"Enter ambient temperature (degrees C:)\")\n",
    "Temp=float(Temp)\n",
    "β=input(\"Enter β:\")\n",
    "β=float(β)\n",
    "RL=input(\"Enter load:\")\n",
    "RL=float(RL)\n",
    "\n",
    "## Calculate β*RE ratio: drives how IC is calculated:\n",
    "\n",
    "if β*RE >= 10.0*R2:\n",
    "    VTH=(VCC)*(R2/(R1+R2))\n",
    "    RTH=np.reciprocal(np.reciprocal(R1)+np.reciprocal(R2))\n",
    "    VE=VTH-0.7\n",
    "    IC=VE/RE\n",
    "else:\n",
    "    VTH=(VCC)*(R2/(R1+R2))\n",
    "    RTH=np.reciprocal(np.reciprocal(R1)+np.reciprocal(R2))\n",
    "    IC=(VTH-0.7)/((RTH/β)+RE)"
   ]
  },
  {
   "cell_type": "code",
   "execution_count": 3,
   "metadata": {},
   "outputs": [],
   "source": [
    "# calculate r'e ...\n",
    "T=Temp+273.15\n",
    "VT=((k*T)/e)\n",
    "VBE=700.0E-3"
   ]
  },
  {
   "cell_type": "code",
   "execution_count": 4,
   "metadata": {},
   "outputs": [],
   "source": [
    "V2=VTH\n",
    "V1=VCC-V2\n",
    "IB=(VTH-VBE)/(RTH+(β+1)*RE)\n",
    "#IB=IC/β      # a more approximate answer\n",
    "#VE=V2-0.7    # a more approximate answer\n",
    "#IE=VE/RE     # a more approximate answer\n",
    "IE=IB*(β+1)   # accounts for base leakage\n",
    "VE=IE*RE\n",
    "VCE=VCC-(IC*RC)+(IE*RE) #accommodates difference between IC and IE due to IB leakage.\n",
    "VC=VE+VCE\n",
    "VRC=VCC-VC\n",
    "r_prime_e=VT/IE\n",
    "r_c=np.reciprocal(np.reciprocal(RC)+np.reciprocal(RL))\n",
    "A_v=r_c/r_prime_e\n",
    "A_v_db=20.0*np.log10(A_v)\n",
    "z_in_base=β*r_prime_e\n",
    "z_in=np.reciprocal(np.reciprocal(R1)+np.reciprocal(R2)+np.reciprocal(z_in_base))"
   ]
  },
  {
   "cell_type": "code",
   "execution_count": 5,
   "metadata": {},
   "outputs": [
    {
     "name": "stdout",
     "output_type": "stream",
     "text": [
      "β(dc) Calculated value: 120.85876952952599\n",
      "Absolute Uncertainty in β(dc): +7156.41 ppm\n"
     ]
    }
   ],
   "source": [
    "β_calc=IC/IB\n",
    "print(\"β(dc) Calculated value:\",β_calc)\n",
    "β_err=abs((β-β_calc)/β)*100.0\n",
    "β_err=β_err*10000.0\n",
    "print(\"Absolute Uncertainty in β(dc):\",'{0:+06.2f}'.format(float(β_err)),\"ppm\")"
   ]
  },
  {
   "cell_type": "code",
   "execution_count": 6,
   "metadata": {},
   "outputs": [
    {
     "name": "stdout",
     "output_type": "stream",
     "text": [
      "0.06316894232728636\n",
      "1913.262515989919\n",
      "120.85876952952599\n"
     ]
    }
   ],
   "source": [
    "gm=IC/VT\n",
    "r_π=VT/IB\n",
    "β_alt=gm*r_π\n",
    "print(gm)\n",
    "print(r_π)\n",
    "print(β_alt)"
   ]
  },
  {
   "cell_type": "code",
   "execution_count": 7,
   "metadata": {},
   "outputs": [
    {
     "name": "stdout",
     "output_type": "stream",
     "text": [
      "56400.0\n",
      "100000.0\n",
      "UCL for VCE: 16.5 V\n",
      "LCL for VCE: 5.5 V\n",
      "VT @ 27.0 degrees C : 0.025864925786328753 V\n",
      "V_R1: 20.405797101449274 V\n",
      "V_R2: 1.5942028985507246 V\n",
      "V_RC: 7.611992920257277 V\n",
      " V_C: 14.388007079742723 V\n",
      " V_B: 1.5942028985507246 V\n",
      " V_E: 0.7688115547005608 V\n",
      " VCE: 13.619195525042162 V\n",
      "  IC: 0.0016338600052961426 A\n",
      "  IE: 0.0016357692653203421 A\n",
      "  IB: 1.3518754258845802e-05 A\n",
      " r'e: 15.812086909007595 Ω\n",
      "  rc: 3327.5362318840585 Ω\n",
      "z_in: 1575.2112389996928 Ω\n",
      " A_v: 210.44257162465235\n",
      " A_v: 46.462672005400364 dB\n"
     ]
    }
   ],
   "source": [
    "print(β*RE)\n",
    "print(10.0*R2)\n",
    "print(\"UCL for VCE:\",VCC*0.75,\"V\")\n",
    "print(\"LCL for VCE:\",VCC*0.25,\"V\")\n",
    "print(\"VT @\",Temp,\"degrees C :\",VT,\"V\")\n",
    "print(\"V_R1:\",V1,\"V\")\n",
    "print(\"V_R2:\",V2,\"V\")\n",
    "print(\"V_RC:\",VRC,\"V\")\n",
    "print(\" V_C:\",VC,\"V\")\n",
    "print(\" V_B:\",V2,\"V\")\n",
    "print(\" V_E:\",VE,\"V\")\n",
    "print(\" VCE:\",VCE,\"V\")\n",
    "print(\"  IC:\",IC,\"A\")\n",
    "print(\"  IE:\",IE,\"A\")\n",
    "print(\"  IB:\",IB,\"A\")\n",
    "print(\" r'e:\",r_prime_e,\"\\u03A9\")\n",
    "print(\"  rc:\",r_c,\"\\u03A9\")\n",
    "print(\"z_in:\",z_in,\"\\u03A9\")\n",
    "print(\" A_v:\",A_v)\n",
    "print(\" A_v:\",A_v_db,\"dB\")"
   ]
  },
  {
   "cell_type": "code",
   "execution_count": 8,
   "metadata": {},
   "outputs": [
    {
     "name": "stdout",
     "output_type": "stream",
     "text": [
      "KVL Check:\n",
      "Σ V: 22.0 V\n"
     ]
    },
    {
     "data": {
      "text/plain": [
       "True"
      ]
     },
     "execution_count": 8,
     "metadata": {},
     "output_type": "execute_result"
    }
   ],
   "source": [
    "print(\"KVL Check:\")\n",
    "VKVL=VE+VCE+VRC\n",
    "print(\"Σ V:\",VKVL,\"V\")\n",
    "VKVL==VCC"
   ]
  },
  {
   "cell_type": "code",
   "execution_count": 9,
   "metadata": {},
   "outputs": [
    {
     "name": "stdout",
     "output_type": "stream",
     "text": [
      "ro: 69540.34933026486 Ω\n"
     ]
    }
   ],
   "source": [
    "VA=100 # typical values are 20V-180V --> use median (50%-ile) value.  NB! This value is process/part dependent.\n",
    "ro=(VA+VCE)/IC\n",
    "print(\"ro:\",ro,\"\\u03A9\")"
   ]
  },
  {
   "cell_type": "markdown",
   "metadata": {},
   "source": [
    "Early Voltage for some modeled parts:\n",
    "\n",
    "<code>\n",
    "2N2222A: 104V<br>\n",
    "2N5172: 37.37V<br>\n",
    "2N4124: 74.03V<br>\n",
    "2N3904: 30V<br>"
   ]
  },
  {
   "cell_type": "markdown",
   "metadata": {},
   "source": [
    "An example of an outlier:\n",
    "<pre>\n",
    ".SUBCKT dtc144erlra/ON 1 2 3 \n",
    "* MODEL FORMAT: PSpice\n",
    "* BRT macro model\n",
    "* External node \n",
    "* Node 1 -> BRT_C\n",
    "* Node 2 -> BRT_B\n",
    "* Node 3 -> BRT_E\n",
    "QOUT 1 4 3 qmodel\n",
    "R1   2 4 47000\n",
    "R2   4 3 47000\n",
    ".MODEL qmodel npn\n",
    "+IS=1.00001e-17 BF=349.534 NF=0.839361 VAF=804.744\n",
    "+IKF=0.306026 ISE=1.0012e-16 NE=1.15668 BR=0.100001\n",
    "+NR=0.950889 VAR=1000 IKR=0.000126051 ISC=1.00015e-16\n",
    "+NC=4 RB=0.1 IRB=0.2 RBM=1\n",
    "+RE=3.05485 RC=0.001 XTB=0.939521 XTI=2.41603 EG=1.206\n",
    "+CJE=1.01139e-13 VJE=0.685626 MJE=0.403552 TF=1e-09\n",
    "+XTF=1 VTF=10 ITF=0.01 CJC=1.04743e-12\n",
    "+VJC=10.1219 MJC=0.856202 XCJC=0.9 FC=0.5\n",
    ".ENDS.SUBCKT dtc144erlra/ON 1 2 3</pre>"
   ]
  }
 ],
 "metadata": {
  "kernelspec": {
   "display_name": "Python 3",
   "language": "python",
   "name": "python3"
  },
  "language_info": {
   "codemirror_mode": {
    "name": "ipython",
    "version": 3
   },
   "file_extension": ".py",
   "mimetype": "text/x-python",
   "name": "python",
   "nbconvert_exporter": "python",
   "pygments_lexer": "ipython3",
   "version": "3.7.4"
  }
 },
 "nbformat": 4,
 "nbformat_minor": 2
}
