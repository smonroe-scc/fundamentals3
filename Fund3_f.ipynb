{
 "cells": [
  {
   "cell_type": "code",
   "execution_count": 1,
   "metadata": {},
   "outputs": [
    {
     "name": "stdout",
     "output_type": "stream",
     "text": [
      "Author        : sm626967\n",
      "Python        : 3.8.3 \n",
      "NumPy         : 1.18.5\n",
      "Encoding      : utf-8\n",
      "Timestamp     : 1607985462.5488565\n"
     ]
    }
   ],
   "source": [
    "%run ./py_templates/numeric.py"
   ]
  },
  {
   "cell_type": "markdown",
   "metadata": {},
   "source": [
    "## Problem_01"
   ]
  },
  {
   "cell_type": "markdown",
   "metadata": {},
   "source": [
    "The question asked for the value of the feedback resistor $R_2$ under an inverting topology which produces a closed-loop gain of -100.  The expression for this is found in chapter 12 of the text. It is:<br><br> $$A_{{cl}(I)}=-\\frac{R_f}{R_i}$$"
   ]
  },
  {
   "cell_type": "markdown",
   "metadata": {},
   "source": [
    "Isolating ... $$100 \\cdot R_i =-R_f$$<br><br>\n",
    "Multiply both sides by -1 ... <br><br>\n",
    "$$-100 \\cdot R_i =R_f$$<br><br>"
   ]
  },
  {
   "cell_type": "code",
   "execution_count": 2,
   "metadata": {},
   "outputs": [
    {
     "name": "stdout",
     "output_type": "stream",
     "text": [
      "Ri= 2200.0 Ω Rf= +220000.000 Ω\n"
     ]
    }
   ],
   "source": [
    "Ri=2200.\n",
    "Acl=100.\n",
    "Rf=Acl*Ri\n",
    "print(\"Ri=\",Ri,\"\\u03A9\",\"Rf=\",'{0:+06.3f}'.format(float(Rf)),\"\\u03A9\")"
   ]
  },
  {
   "cell_type": "markdown",
   "metadata": {},
   "source": [
    "## Problem_02"
   ]
  },
  {
   "cell_type": "markdown",
   "metadata": {},
   "source": [
    "This is a non-inverting amplifier, and the network values are:<br><br>\n",
    "$$R_2=100.0k \\Omega$$\n",
    "$$R_1=4.7k \\Omega$$<br><br>\n",
    "The expression used to calculate the gain of this type of amplifier is<br><br> $$A_{{cl}(NI)}=1+\\frac{R_f}{R_i}$$"
   ]
  },
  {
   "cell_type": "code",
   "execution_count": 3,
   "metadata": {},
   "outputs": [
    {
     "name": "stdout",
     "output_type": "stream",
     "text": [
      "Acl:  22.27659574468085\n",
      "Acl(db):  26.956976474862493 dB\n"
     ]
    }
   ],
   "source": [
    "R2=100E3\n",
    "R1=4700.\n",
    "Acl=1+(R2/R1)\n",
    "Acl_db=20*np.log10(Acl)\n",
    "print(\"Acl: \",Acl)\n",
    "print(\"Acl(db): \",Acl_db,\"dB\")"
   ]
  },
  {
   "cell_type": "markdown",
   "metadata": {},
   "source": [
    "## Problem_03"
   ]
  },
  {
   "cell_type": "markdown",
   "metadata": {},
   "source": [
    "Given:<br><br>\n",
    "    $$Z_{IN}=2M \\Omega$$<br>\n",
    "    $$Z_{OUT}=75 \\Omega$$<br>\n",
    "    $$A_{OL}=200000$$<br>"
   ]
  },
  {
   "cell_type": "code",
   "execution_count": 4,
   "metadata": {},
   "outputs": [],
   "source": [
    "zin=2.0E6\n",
    "zout=75.0\n",
    "aol=200.0E3"
   ]
  },
  {
   "cell_type": "code",
   "execution_count": 5,
   "metadata": {},
   "outputs": [
    {
     "name": "stdout",
     "output_type": "stream",
     "text": [
      "          Acl= 23.0\n",
      " zin(network)= 4000000.0 Ω\n",
      "zout(network)= 37.5 Ω\n"
     ]
    }
   ],
   "source": [
    "R2=220.0E3\n",
    "R1=10.0E3\n",
    "Acl=1+(R2/R1)\n",
    "B=R1/(R1+R2)\n",
    "zin_network=(1+Acl*B)*zin\n",
    "zout_network=zout/(1+(Acl*B))\n",
    "print(\"          Acl=\",Acl)\n",
    "print(\" zin(network)=\",zin_network,\"\\u03A9\")\n",
    "print(\"zout(network)=\",zout_network,\"\\u03A9\")"
   ]
  },
  {
   "cell_type": "markdown",
   "metadata": {},
   "source": [
    "## Problem_04"
   ]
  },
  {
   "cell_type": "markdown",
   "metadata": {},
   "source": [
    "Given:<br><br>\n",
    "    $$Z_{IN}=4M \\Omega$$<br>\n",
    "    $$Z_{OUT}=50 \\Omega$$<br>\n",
    "    $$A_{OL}=50000$$<br>"
   ]
  },
  {
   "cell_type": "code",
   "execution_count": 6,
   "metadata": {},
   "outputs": [],
   "source": [
    "zin=4.0E6\n",
    "zout=50.0\n",
    "aol=50.0E3"
   ]
  },
  {
   "cell_type": "code",
   "execution_count": 7,
   "metadata": {},
   "outputs": [
    {
     "name": "stdout",
     "output_type": "stream",
     "text": [
      "          Acl= -100.0\n",
      " zin(network)= 4000000.0 Ω\n",
      "zout(network)= 25.124378109452735 Ω\n"
     ]
    }
   ],
   "source": [
    "R2=1.0E3\n",
    "R1=100.0E3\n",
    "Acl=(R1/R2)\n",
    "B=R2/(R1+R2)\n",
    "zin_network=zin\n",
    "zout_network=zout/(1+(Acl*B))\n",
    "print(\"          Acl=\",-1*Acl)\n",
    "print(\" zin(network)=\",zin_network,\"\\u03A9\")\n",
    "print(\"zout(network)=\",zout_network,\"\\u03A9\")"
   ]
  },
  {
   "cell_type": "markdown",
   "metadata": {},
   "source": [
    "## Problem_05"
   ]
  },
  {
   "cell_type": "code",
   "execution_count": 8,
   "metadata": {},
   "outputs": [],
   "source": [
    "R2=1000.0\n",
    "R1=47.0E3\n",
    "Aol_db=100.0\n",
    "BW=3.0E6"
   ]
  },
  {
   "cell_type": "code",
   "execution_count": 9,
   "metadata": {},
   "outputs": [
    {
     "name": "stdout",
     "output_type": "stream",
     "text": [
      "   Acl= -47.0\n",
      "BW(cl)= 63829.78723404255 Hz\n"
     ]
    }
   ],
   "source": [
    "Acl=(R1/R2)\n",
    "BW_cl=BW/Acl\n",
    "print(\"   Acl=\",-1*Acl)\n",
    "print(\"BW(cl)=\",BW_cl,\"Hz\")"
   ]
  },
  {
   "cell_type": "markdown",
   "metadata": {},
   "source": [
    "## Problem_06"
   ]
  },
  {
   "cell_type": "markdown",
   "metadata": {},
   "source": [
    "This problem is an instrumentation amplifier and was covered in class, in a lab, and was the subject of an announcement and an applications note posted to my Github.  Comparing the notes from class $V_1=V_2$ and $V_3=V_2$.  Those substitutions have been made below:"
   ]
  },
  {
   "cell_type": "code",
   "execution_count": 10,
   "metadata": {},
   "outputs": [
    {
     "name": "stdout",
     "output_type": "stream",
     "text": [
      "VB: 2.67335 Volts\n",
      "VA: -0.17335 Volts\n",
      "Vout: 2.84670 Volts\n",
      "Vgain: 1.50000 Volts\n",
      "VAB: -2.84670 Volts\n"
     ]
    }
   ],
   "source": [
    "V1=500.0E-3\n",
    "V2=2.0\n",
    "R1=47.0E3\n",
    "R5=47.0E3\n",
    "R6=47.0E3\n",
    "Rgain=100.0E3+4.7E3\n",
    "VA=(V1*R1-V2*R1+V1*Rgain)/Rgain\n",
    "VB=((V1*R1-V2*R1-V2*Rgain)/Rgain)*-1\n",
    "VOUT=R5/R6*(VB-VA)\n",
    "Vgain=V2-V1\n",
    "VAB=VA-VB\n",
    "print(\"VB:\",'{0:.5f}'.format(VB),\"Volts\")\n",
    "print(\"VA:\",'{0:.5f}'.format(VA),\"Volts\")\n",
    "print(\"Vout:\",'{0:.5f}'.format(VOUT),\"Volts\")\n",
    "print(\"Vgain:\",'{0:.5f}'.format(Vgain),\"Volts\")\n",
    "print(\"VAB:\",'{0:.5f}'.format(VAB),\"Volts\")"
   ]
  },
  {
   "cell_type": "markdown",
   "metadata": {},
   "source": [
    "## Problem_07"
   ]
  },
  {
   "cell_type": "markdown",
   "metadata": {},
   "source": [
    "This is a summing circuit, and additionally is an <i>inverting</i> amplifier.  Therefore the output voltage is: <br><br>\n",
    "$$V_{out}=-\\left ( \\frac{R_5}{R_1} \\cdot V_1 + \\frac{R_5}{R_2} \\cdot V_2 + \\frac{R_5}{R_3} \\cdot V_3 + \\frac{R_5}{R_4} \\cdot V_4 \\right )$$"
   ]
  },
  {
   "cell_type": "markdown",
   "metadata": {},
   "source": [
    "## Problem_08"
   ]
  },
  {
   "cell_type": "markdown",
   "metadata": {},
   "source": [
    "After ~45.2ms of circuit settling time, the following output is produced.  "
   ]
  },
  {
   "cell_type": "markdown",
   "metadata": {},
   "source": [
    "<img src=\"Integrator_waveforms.JPG\" alt=\"PLOT MISSING\" width=\"1024\" height=\"768\"> "
   ]
  },
  {
   "cell_type": "markdown",
   "metadata": {},
   "source": [
    "Input is shown in \"dark blue\" <code>V(n002)</code> and the integrated, time aligned output is shown in \"yellow\" <code>V(vout)</code>.\n",
    "Data produced using LTspice <code>XVII(x64) (17.0.0.14)</code>"
   ]
  },
  {
   "cell_type": "markdown",
   "metadata": {},
   "source": [
    "## Problem_09"
   ]
  },
  {
   "cell_type": "markdown",
   "metadata": {},
   "source": [
    "This problem's answer is not as obvious as you might think: The temptation is to see the triangle wave input, look at the series RC circuit on the input of the inverting amplifier, and assume that the differentiator will produce a square wave output.  This is true ... however ... <i>only</i> under particular conditions. For all cases shown the input signal is a triangle wave with a period of $15\\mu s$ ... this implies a symmetrical $7.5\\mu s$ rise and fall, such that the following signal is produced:"
   ]
  },
  {
   "cell_type": "markdown",
   "metadata": {},
   "source": [
    "<img src=\"Integrator_input.JPG\" alt=\"PLOT MISSING\" width=\"1024\" height=\"768\"> "
   ]
  },
  {
   "cell_type": "markdown",
   "metadata": {},
   "source": [
    " If input R value is left at 150Ω, you will get the following output $(\\tau=150ns)$:"
   ]
  },
  {
   "cell_type": "markdown",
   "metadata": {},
   "source": [
    "<img src=\"Differentiator_Output.JPG\" alt=\"PLOT MISSING\" width=\"1024\" height=\"768\"> "
   ]
  },
  {
   "cell_type": "markdown",
   "metadata": {},
   "source": [
    "Definitely not a square wave output.  ($5 \\tau=750ns$) ... more triangular than anything.  It's essentially a glitchy version of the input."
   ]
  },
  {
   "cell_type": "markdown",
   "metadata": {},
   "source": [
    "If input R value is increased to 1kΩ in an attempt to alter $\\tau$.  Making $R_1$, larger changes the RC time constant to $\\tau=1 \\mu s$ ... note that we have sacrificed a significant amount of gain due to the ratio of $R_1$ and $R_5$ which sets the gain. It would be equally valid to leave $R_1$ as is and alter $C_1$ ...  All we are attempting to do is alter the time constant to be more in line with the incoming signal."
   ]
  },
  {
   "cell_type": "markdown",
   "metadata": {},
   "source": [
    "<img src=\"Differentiator_Output_1u.JPG\" alt=\"PLOT MISSING\" width=\"1024\" height=\"768\">"
   ]
  },
  {
   "cell_type": "markdown",
   "metadata": {},
   "source": [
    "Definitely more square."
   ]
  },
  {
   "cell_type": "markdown",
   "metadata": {},
   "source": [
    "But you can overdo it ... Here is a result with $R_1$ set to $1.5k \\Omega$, which changes $\\tau=1.5 \\mu s$"
   ]
  },
  {
   "cell_type": "markdown",
   "metadata": {},
   "source": [
    "<img src=\"Differentiator_Output_1_5u.JPG\" alt=\"PLOT MISSING\" width=\"1024\" height=\"768\">"
   ]
  },
  {
   "cell_type": "markdown",
   "metadata": {},
   "source": [
    "## Problem_10"
   ]
  },
  {
   "cell_type": "markdown",
   "metadata": {},
   "source": [
    "This is a Sallen-Key LPF with 2-poles. \n",
    "In order to achieve a Butterworth response the ratio of $\\frac{R_1}{R_2}=0.586$"
   ]
  },
  {
   "cell_type": "code",
   "execution_count": 11,
   "metadata": {},
   "outputs": [
    {
     "name": "stdout",
     "output_type": "stream",
     "text": [
      "R1= 586.0 Ω\n"
     ]
    }
   ],
   "source": [
    "R2=1000.0\n",
    "k=0.586\n",
    "R1=R2*k\n",
    "print(\"R1=\",R1,\"\\u03A9\")"
   ]
  }
 ],
 "metadata": {
  "kernelspec": {
   "display_name": "Python 3",
   "language": "python",
   "name": "python3"
  },
  "language_info": {
   "codemirror_mode": {
    "name": "ipython",
    "version": 3
   },
   "file_extension": ".py",
   "mimetype": "text/x-python",
   "name": "python",
   "nbconvert_exporter": "python",
   "pygments_lexer": "ipython3",
   "version": "3.8.3"
  }
 },
 "nbformat": 4,
 "nbformat_minor": 4
}
