{
 "cells": [
  {
   "cell_type": "code",
   "execution_count": 1,
   "metadata": {},
   "outputs": [
    {
     "name": "stdout",
     "output_type": "stream",
     "text": [
      "Author        : sm626967\n",
      "Python        : 3.7.4 \n",
      "NumPy         : 1.18.1\n",
      "Encoding      : utf-8\n",
      "Timestamp     : 1602103512.9659216\n"
     ]
    }
   ],
   "source": [
    "%run ./py_templates/1_boilerplate_numeric.py"
   ]
  },
  {
   "cell_type": "markdown",
   "metadata": {},
   "source": [
    "# 2N5566"
   ]
  },
  {
   "cell_type": "markdown",
   "metadata": {},
   "source": [
    "Once again, I have a randomly selected a 2N5566 N-type JFET.  Below, look at this plot:"
   ]
  },
  {
   "cell_type": "markdown",
   "metadata": {},
   "source": [
    "For all the plots presented below, I am using the curve which sets V2 (Gate Voltage) to 0.0V:"
   ]
  },
  {
   "cell_type": "markdown",
   "metadata": {},
   "source": [
    " <img src=\"f1.JPG\" alt=\"PLOT MISSING\" width=\"1024\" height=\"768\"> "
   ]
  },
  {
   "cell_type": "markdown",
   "metadata": {},
   "source": [
    "In first plot we see that $$I_{DSS}=15.4632mA$$ <br>Measured directly off of the left device (tab up) in the package."
   ]
  },
  {
   "cell_type": "markdown",
   "metadata": {},
   "source": [
    "Let's look at the output admittance that's the slope of the plot at a given gate value. If we take the reciprocal of the output admittance, the drain resistance is calculated:"
   ]
  },
  {
   "cell_type": "markdown",
   "metadata": {},
   "source": [
    " <img src=\"f2.JPG\" alt=\"PLOT MISSING\" width=\"1024\" height=\"768\"> "
   ]
  },
  {
   "cell_type": "markdown",
   "metadata": {},
   "source": [
    "In the above plot, you can see that the gradient (slope) of the line is $$5.18094E-5 \\frac{mA}{V}$$ the units of which is siemens."
   ]
  },
  {
   "cell_type": "code",
   "execution_count": 2,
   "metadata": {},
   "outputs": [
    {
     "name": "stdout",
     "output_type": "stream",
     "text": [
      "rd: 19301.51671 Ω\n"
     ]
    }
   ],
   "source": [
    "m1=5.18094E-05\n",
    "rd=np.reciprocal(m1)\n",
    "print(\"rd:\",'{0:.5f}'.format(rd),\"Ω\")"
   ]
  },
  {
   "cell_type": "markdown",
   "metadata": {},
   "source": [
    "Moving further down (toward the left) the curve:"
   ]
  },
  {
   "cell_type": "markdown",
   "metadata": {},
   "source": [
    " <img src=\"f3.JPG\" alt=\"PLOT MISSING\" width=\"1024\" height=\"768\"> "
   ]
  },
  {
   "cell_type": "code",
   "execution_count": 3,
   "metadata": {},
   "outputs": [
    {
     "name": "stdout",
     "output_type": "stream",
     "text": [
      "rd: 2267.12850 Ω\n"
     ]
    }
   ],
   "source": [
    "m2=4.410866E-04\n",
    "rd=np.reciprocal(m2)\n",
    "print(\"rd:\",'{0:.5f}'.format(rd),\"Ω\")"
   ]
  },
  {
   "cell_type": "markdown",
   "metadata": {},
   "source": [
    "Moving further down (toward the left) the curve:"
   ]
  },
  {
   "cell_type": "markdown",
   "metadata": {},
   "source": [
    " <img src=\"f4.JPG\" alt=\"PLOT MISSING\" width=\"1024\" height=\"768\"> "
   ]
  },
  {
   "cell_type": "code",
   "execution_count": 4,
   "metadata": {},
   "outputs": [
    {
     "name": "stdout",
     "output_type": "stream",
     "text": [
      "rd: 82.08071 Ω\n"
     ]
    }
   ],
   "source": [
    "m3=1.218313E-2\n",
    "rd=np.reciprocal(m3)\n",
    "print(\"rd:\",'{0:.5f}'.format(rd),\"Ω\")"
   ]
  },
  {
   "cell_type": "markdown",
   "metadata": {},
   "source": [
    "So in the \"Ohmic Region\" the device has a constant resistans of $\\approx 80 \\Omega$"
   ]
  },
  {
   "cell_type": "markdown",
   "metadata": {},
   "source": [
    "The second characteristic we should notice is that $r_d$ is bias dependent.  In the first case, $r_d =19.30151671k \\Omega$. Moving to lower current $r_d=2.26712850k \\Omega$, and finally we end up at around $\\approx 80 \\Omega$ in the ohmic region."
   ]
  },
  {
   "cell_type": "markdown",
   "metadata": {},
   "source": [
    "When we speak of input impedance (or resistance) of the device itself, all commercially available JFETs have a sufficiently large value as to be qualitatively infinite.  Practically, the input resistance is $\\approx 1G\\Omega$"
   ]
  },
  {
   "cell_type": "markdown",
   "metadata": {},
   "source": [
    "The output resistance is $$R_{out}=r_d \\parallel R_D$$"
   ]
  },
  {
   "cell_type": "markdown",
   "metadata": {},
   "source": [
    "But there is a catch: if, at a given bias point, $r_d \\geq 10R_D$ this may be retuced to just $R_D$"
   ]
  },
  {
   "cell_type": "markdown",
   "metadata": {},
   "source": [
    "Finally, gain is calculated by using the foregoing plus transconductance: $$A_v=\\frac{V_o}{V_i}=-g_m(r_d \\parallel R_D)$$<br><br> and, assuming the condition that $$r_d \\geq 10R_D$$ is met,  this can be reduced to $$A_V=\\frac{V_o}{V_i}=-g_mR_D$$"
   ]
  },
  {
   "cell_type": "markdown",
   "metadata": {},
   "source": [
    "Transconductance values (both tabular and plots) are provided in the data sheet. "
   ]
  }
 ],
 "metadata": {
  "kernelspec": {
   "display_name": "Python 3",
   "language": "python",
   "name": "python3"
  },
  "language_info": {
   "codemirror_mode": {
    "name": "ipython",
    "version": 3
   },
   "file_extension": ".py",
   "mimetype": "text/x-python",
   "name": "python",
   "nbconvert_exporter": "python",
   "pygments_lexer": "ipython3",
   "version": "3.7.4"
  }
 },
 "nbformat": 4,
 "nbformat_minor": 4
}
