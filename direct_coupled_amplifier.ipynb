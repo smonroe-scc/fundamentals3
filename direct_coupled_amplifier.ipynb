{
 "cells": [
  {
   "cell_type": "markdown",
   "metadata": {},
   "source": [
    "## Common Emitter Direct Coupled Amplifier Analysis"
   ]
  },
  {
   "cell_type": "markdown",
   "metadata": {},
   "source": [
    "Set constants ..."
   ]
  },
  {
   "cell_type": "code",
   "execution_count": 1,
   "metadata": {},
   "outputs": [],
   "source": [
    "const k=1.3806488E-23;\n",
    "const q=1.60217733E-19;\n",
    "T=300.15;                                      ## 27C\n",
    "VT=(k*T)/q;                                    ## 25.8649mV at 27C --> Not rounded."
   ]
  },
  {
   "cell_type": "markdown",
   "metadata": {},
   "source": [
    "Start off by finding $V_E$ for stage 1 ... "
   ]
  },
  {
   "cell_type": "markdown",
   "metadata": {},
   "source": [
    "$$V_E=\\left ( \\left ( \\left [ \\frac{\\left ( R_2 \\parallel R_S \\right )}{\\left ( R_2 \\parallel R_S\\right )+R_1} \\right ]*V_{CC} \\right )-V_{BE} \\cdot  \\right ) \\cdot \\left ( \\frac{R_E \\cdot \\beta}{R_E \\cdot \\beta+\\left ( R_1 \\parallel R_2 \\parallel R_s \\right )  } \\right )$$"
   ]
  },
  {
   "cell_type": "code",
   "execution_count": 2,
   "metadata": {},
   "outputs": [],
   "source": [
    "R1=56000;\n",
    "R2=10000;\n",
    "RS=5000;\n",
    "RC=3300;\n",
    "RE=910;\n",
    "VCC=16;\n",
    "VBE=0.6;\n",
    "β=120;\n",
    "vin=500E-3;"
   ]
  },
  {
   "cell_type": "markdown",
   "metadata": {},
   "source": [
    "<b>Note:</b> $V_{be}$ for both transistors is set to $0.6V$ <u>for this example</u>.  Since an amplifier like this would be much more commonly implemented as an integrated circuit rather than using discrete devices, a forward junction of $0.6V$ would be quite common.  As has been indicated in-class and elsewhere, $V_{be}$ can be $0.55V - 0.85V$, and is a function of temperature, bandgap energy ($\\approx 1.11eV$ for Si) as well as carrier concentration and physical area(s) on both sides of the junction.  For homework exercises, you will be given a value for $V_{be}$ to use on a problem by problem basis."
   ]
  },
  {
   "cell_type": "code",
   "execution_count": 3,
   "metadata": {},
   "outputs": [
    {
     "name": "stdout",
     "output_type": "stream",
     "text": [
      "  k_1: 3333.333333333333  k_2: 109200  k_3: 3146.0674157303374"
     ]
    }
   ],
   "source": [
    "k_1=(R2^-1+RS^-1)^-1;\n",
    "k_2=RE*β;\n",
    "k_3=(R1^-1+R2^-1+RS^-1)^-1;\n",
    "print(\"  k_1: \",k_1);\n",
    "print(\"  k_2: \",k_2);\n",
    "print(\"  k_3: \",k_3);"
   ]
  },
  {
   "cell_type": "code",
   "execution_count": 4,
   "metadata": {},
   "outputs": [
    {
     "name": "stdout",
     "output_type": "stream",
     "text": [
      "0.2905068608232987"
     ]
    }
   ],
   "source": [
    "VE=(((k_1/(k_1+R1))*VCC)-VBE)*(k_2/(k_2+k_3));\n",
    "print(VE)"
   ]
  },
  {
   "cell_type": "markdown",
   "metadata": {},
   "source": [
    "$V_B$ is just $V_E+V_{BE}$ ..."
   ]
  },
  {
   "cell_type": "code",
   "execution_count": 5,
   "metadata": {},
   "outputs": [
    {
     "name": "stdout",
     "output_type": "stream",
     "text": [
      "0.8905068608232987"
     ]
    }
   ],
   "source": [
    "VB=VE+VBE;\n",
    "print(VB)"
   ]
  },
  {
   "cell_type": "markdown",
   "metadata": {},
   "source": [
    "Use Ohm's Law to calculate the emitter current ..."
   ]
  },
  {
   "cell_type": "code",
   "execution_count": 6,
   "metadata": {},
   "outputs": [],
   "source": [
    "IE=VE/RE;"
   ]
  },
  {
   "cell_type": "markdown",
   "metadata": {},
   "source": [
    "Calculating the collector voltage from stage 1 involves stage 2 parameters since they are coupled directly ... subscripts $1$ and $2$ indicate stages $1$ and $2$ ..."
   ]
  },
  {
   "cell_type": "markdown",
   "metadata": {},
   "source": [
    "$$V_{C_{1}}=V_{CC}-I_{E_{1}}R_{C_{1}}-\\left [ \\frac{\\left ( V_{CC}-(I_{E_{1}}R_{C_{1}}) \\right )-V_{BE}}{\\left ( (R_{E_{2}} \\beta_2) +R_{C_{1}}\\right )\\cdot R_{C_{1}}} \\right ]$$"
   ]
  },
  {
   "cell_type": "code",
   "execution_count": 7,
   "metadata": {},
   "outputs": [],
   "source": [
    "β2=125;\n",
    "RC2=6800;\n",
    "RE2=6800;\n",
    "RL=47000;"
   ]
  },
  {
   "cell_type": "code",
   "execution_count": 8,
   "metadata": {},
   "outputs": [],
   "source": [
    "k_4=(VCC-IE*RC)-VBE;\n",
    "k_5=((RE2*β2)+RC)*RC;\n",
    "VC=VCC-(IE*RC)-(k_4/k_5);\n",
    "VB2=VC;\n",
    "VE2=VB2-VBE;\n",
    "IE2=VE2/RE2;\n",
    "VC2=((VCC-(IE2*RC2))/(RE2+RL))*RL;"
   ]
  },
  {
   "cell_type": "code",
   "execution_count": 9,
   "metadata": {},
   "outputs": [],
   "source": [
    "re=VT/IE;\n",
    "re2=VT/IE2;"
   ]
  },
  {
   "cell_type": "markdown",
   "metadata": {},
   "source": [
    "Compute $z_{IN}$ for stage 1 ...\n",
    "$$z_{in}=(R_E+r'e)\\beta \\parallel R_1 \\parallel R_2$$  "
   ]
  },
  {
   "cell_type": "code",
   "execution_count": 10,
   "metadata": {},
   "outputs": [],
   "source": [
    "zin1=((((RE+re)*β)^-1)+((R1)^-1)+((R2)^-1))^-1;"
   ]
  },
  {
   "cell_type": "markdown",
   "metadata": {},
   "source": [
    "Compute voltage gain for stage 1 ... Note that part of this calculation uses $z_{in_{2}}$ in the calculation...<br><br>$$\\frac{R_{C_{1}} \\parallel z_{in_{2}}}{R_{E_{1}}+r'_{e_{1}}}$$"
   ]
  },
  {
   "cell_type": "code",
   "execution_count": 11,
   "metadata": {},
   "outputs": [],
   "source": [
    "zin2=β2*(RE2+re2);"
   ]
  },
  {
   "cell_type": "code",
   "execution_count": 12,
   "metadata": {},
   "outputs": [],
   "source": [
    "AV1=(RC^-1+zin2^-1)^-1/(RE+re);"
   ]
  },
  {
   "cell_type": "code",
   "execution_count": 13,
   "metadata": {},
   "outputs": [],
   "source": [
    "zout1=RC;\n",
    "vin_1=(zin1/(zin1+RS))*vin;\n",
    "vout_1=vin_1*AV1;"
   ]
  },
  {
   "cell_type": "markdown",
   "metadata": {},
   "source": [
    "Compute voltage gain for stage 2 ... The load for this stage is the actual amplifier load\n",
    "<br><br>\n",
    "$$A_{V_{2}}=\\frac{R_{C_{2}} \\parallel R_{Load}}{R_{E_{2}}+r'_{e_{2}}}$$"
   ]
  },
  {
   "cell_type": "code",
   "execution_count": 14,
   "metadata": {},
   "outputs": [],
   "source": [
    "AV2=(((RC2^-1)+(RL^-1))^-1)/(RE2+re2);"
   ]
  },
  {
   "cell_type": "code",
   "execution_count": 15,
   "metadata": {},
   "outputs": [],
   "source": [
    "zout2=RC2;\n",
    "vin2=vout_1;\n",
    "vout2=vin2*AV2;"
   ]
  },
  {
   "cell_type": "code",
   "execution_count": 16,
   "metadata": {},
   "outputs": [],
   "source": [
    "AVT=AV1*AV2;"
   ]
  },
  {
   "cell_type": "code",
   "execution_count": 17,
   "metadata": {},
   "outputs": [
    {
     "name": "stdout",
     "output_type": "stream",
     "text": [
      "Stage 1 Results:\n",
      "   β1: 120\n",
      "   R1: 56000 Ω\n",
      "   R2: 10000 Ω\n",
      "   RC: 3300 Ω\n",
      "   RE: 910 Ω\n",
      "   RS: 5000 Ω\n",
      "   RL: 851532.4402033829 Ω\n",
      "  VCC: 16 V\n",
      "  vin: 0.5 v\n",
      "   VE: 0.2905068608232987 V\n",
      "   VB: 0.8905068608232987 V\n",
      "   IE: 0.0003192383085970315 A\n",
      "   VC: 14.946513576534954 V\n",
      " r'e1: 81.0206986663646 Ω\n",
      " zin1: 7919.789531826083 Ω\n",
      "  AV1: 3.317045411573244\n",
      "zout1: 3300Ω\n"
     ]
    }
   ],
   "source": [
    "println(\"Stage 1 Results:\");\n",
    "println(\"   β1: \",β);\n",
    "println(\"   R1: \",R1,\" Ω\");\n",
    "println(\"   R2: \",R2,\" Ω\");\n",
    "println(\"   RC: \",RC,\" Ω\");\n",
    "println(\"   RE: \",RE,\" Ω\");\n",
    "println(\"   RS: \",RS,\" Ω\");\n",
    "println(\"   RL: \",zin2,\" Ω\");\n",
    "println(\"  VCC: \",VCC,\" V\");\n",
    "println(\"  vin: \",vin,\" v\");\n",
    "println(\"   VE: \",VE,\" V\");\n",
    "println(\"   VB: \",VB,\" V\");\n",
    "println(\"   IE: \",IE,\" A\");\n",
    "println(\"   VC: \",VC,\" V\");\n",
    "println(\" r'e1: \",re,\" Ω\");\n",
    "println(\" zin1: \",zin1,\" Ω\");\n",
    "println(\"  AV1: \",AV1);\n",
    "println(\"zout1: \",RC,\"Ω\");"
   ]
  },
  {
   "cell_type": "code",
   "execution_count": 18,
   "metadata": {},
   "outputs": [
    {
     "name": "stdout",
     "output_type": "stream",
     "text": [
      "Stage 2 Results:\n",
      "   β2: 125\n",
      "  RC2: 6800 Ω\n",
      "  RE2: 6800 Ω\n",
      "   RL: 47000 Ω\n",
      "  VE2: 14.346513576534955 V\n",
      "  VB2: 14.946513576534954 V\n",
      "  IE2: 0.002109781408313964 A\n",
      "  VC2: 1.444495574402549 V\n",
      " r'e2: 12.259521627062774 Ω\n",
      " zin2: 851532.4402033829 Ω\n",
      "  AV2: 0.87203378368618\n",
      "zout2: 6800Ω\n"
     ]
    }
   ],
   "source": [
    "println(\"Stage 2 Results:\");\n",
    "println(\"   β2: \",β2);\n",
    "println(\"  RC2: \",RC2,\" Ω\");\n",
    "println(\"  RE2: \",RE2,\" Ω\");\n",
    "println(\"   RL: \",RL,\" Ω\");\n",
    "println(\"  VE2: \",VE2,\" V\");\n",
    "println(\"  VB2: \",VB2,\" V\");\n",
    "println(\"  IE2: \",IE2,\" A\");\n",
    "println(\"  VC2: \",VC2,\" V\");\n",
    "println(\" r'e2: \",re2,\" Ω\");\n",
    "println(\" zin2: \",zin2,\" Ω\");\n",
    "println(\"  AV2: \",AV2);\n",
    "println(\"zout2: \",RC2,\"Ω\");"
   ]
  },
  {
   "cell_type": "code",
   "execution_count": 19,
   "metadata": {},
   "outputs": [
    {
     "name": "stdout",
     "output_type": "stream",
     "text": [
      "small signal analysis, stage 1:\n",
      "  vin_base_1: 0.3064983958259071 v\n",
      "      vout_1: 1.016669097528885 v\n"
     ]
    }
   ],
   "source": [
    "println(\"small signal analysis, stage 1:\");\n",
    "println(\"  vin_base_1: \",vin_1,\" v\");\n",
    "println(\"      vout_1: \",vout_1,\" v\");"
   ]
  },
  {
   "cell_type": "code",
   "execution_count": 20,
   "metadata": {
    "scrolled": false
   },
   "outputs": [
    {
     "name": "stdout",
     "output_type": "stream",
     "text": [
      "small signal analysis, stage 2:\n",
      "  vin_base_2: 1.016669097528885 v\n",
      "      vout_2: 0.8865697998749276 v\n"
     ]
    }
   ],
   "source": [
    "println(\"small signal analysis, stage 2:\");\n",
    "println(\"  vin_base_2: \",vout_1,\" v\");\n",
    "println(\"      vout_2: \",vout2,\" v\");"
   ]
  },
  {
   "cell_type": "code",
   "execution_count": 21,
   "metadata": {},
   "outputs": [
    {
     "name": "stdout",
     "output_type": "stream",
     "text": [
      "Circuit gain: 2.8925756609130984\n"
     ]
    }
   ],
   "source": [
    "println(\"Circuit gain: \",AVT);"
   ]
  },
  {
   "cell_type": "markdown",
   "metadata": {},
   "source": [
    "<b>Note:</b> since this type of amplifier has no coupling capacitors, nor bypass capacitors, it has low-frequency extension to dc.  However ... to accomplish such low frequency response, stages are <b><u>not isolated</u></b> from one another.  Individual stages will have typically lower gain values for the circuit topologies being implemented. An additional side effect is that there is a dc component coupled to the load. If one attempts to measure signal on the load of a direct coupled amplifier and use only direct coupling on the oscilloscope, the signal will likely offset off-screen. To mitigate against this effect simply use alternate coupling on your oscilloscope for the channel measuring signal on the load.    "
   ]
  }
 ],
 "metadata": {
  "kernelspec": {
   "display_name": "Julia 1.0.1",
   "language": "julia",
   "name": "julia-1.0"
  },
  "language_info": {
   "file_extension": ".jl",
   "mimetype": "application/julia",
   "name": "julia",
   "version": "1.0.1"
  }
 },
 "nbformat": 4,
 "nbformat_minor": 2
}
